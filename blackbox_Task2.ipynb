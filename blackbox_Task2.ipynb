{
 "cells": [
  {
   "cell_type": "code",
   "execution_count": 5,
   "id": "710eed8b",
   "metadata": {},
   "outputs": [
    {
     "name": "stdout",
     "output_type": "stream",
     "text": [
      "[*********************100%%**********************]  1 of 1 completed\n",
      "Data for 2023-10-09 saved to MongoDB.\n",
      "[*********************100%%**********************]  1 of 1 completed\n",
      "Data for 2023-10-10 saved to MongoDB.\n",
      "[*********************100%%**********************]  1 of 1 completed\n",
      "Data for 2023-10-11 saved to MongoDB.\n",
      "[*********************100%%**********************]  1 of 1 completed\n",
      "Data for 2023-10-12 saved to MongoDB.\n",
      "[*********************100%%**********************]  1 of 1 completed\n",
      "Data for 2023-10-13 saved to MongoDB.\n"
     ]
    }
   ],
   "source": [
    "import yfinance as yf\n",
    "from datetime import datetime, timedelta\n",
    "import time\n",
    "from pymongo import MongoClient\n",
    "\n",
    "stock_symbol = \"ICICIBANK.NS\"  \n",
    "\n",
    "start_date = \"2023-10-09\"\n",
    "end_date = \"2023-10-13\"\n",
    "current_date = datetime.strptime(start_date, \"%Y-%m-%d\")\n",
    "\n",
    "client = MongoClient(\"mongodb://localhost:27017\")  \n",
    "db = client[\"financial_data\"]\n",
    "collection = db[\"icici_bank_candle_data\"]\n",
    "\n",
    "while current_date <= datetime.strptime(end_date, \"%Y-%m-%d\"):\n",
    "    start_time = current_date.replace(hour=11, minute=15, second=0, microsecond=0)\n",
    "    end_time = current_date.replace(hour=14, minute=15)\n",
    "\n",
    "    try:\n",
    "        data = yf.download(stock_symbol, start=start_time, end=end_time, interval=\"15m\")\n",
    "        if not data.empty:\n",
    "            data_list = data.reset_index().to_dict(orient=\"records\")\n",
    "            collection.insert_many(data_list)\n",
    "            print(f\"Data for {current_date.date()} saved to MongoDB.\")\n",
    "    except Exception as e:\n",
    "        print(f\"Error fetching data for {current_date.date()}: {e}\")\n",
    "    current_date += timedelta(days=1)  \n",
    "client.close()"
   ]
  },
  {
   "cell_type": "code",
   "execution_count": null,
   "id": "923e014f",
   "metadata": {},
   "outputs": [],
   "source": []
  }
 ],
 "metadata": {
  "kernelspec": {
   "display_name": "Python 3 (ipykernel)",
   "language": "python",
   "name": "python3"
  },
  "language_info": {
   "codemirror_mode": {
    "name": "ipython",
    "version": 3
   },
   "file_extension": ".py",
   "mimetype": "text/x-python",
   "name": "python",
   "nbconvert_exporter": "python",
   "pygments_lexer": "ipython3",
   "version": "3.9.7"
  }
 },
 "nbformat": 4,
 "nbformat_minor": 5
}
